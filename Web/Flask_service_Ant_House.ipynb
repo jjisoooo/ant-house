{
 "cells": [
  {
   "cell_type": "markdown",
   "id": "deef7d1a",
   "metadata": {
    "id": "fiEdBvw_xY5W"
   },
   "source": [
    "# intent classification\n",
    "https://velog.io/@yelim421/Intent-Classification-o9jdf690"
   ]
  },
  {
   "cell_type": "code",
   "execution_count": 1,
   "id": "37f08993",
   "metadata": {},
   "outputs": [],
   "source": [
    "# !pip install konlpy"
   ]
  },
  {
   "cell_type": "code",
   "execution_count": 2,
   "id": "cd1a845a",
   "metadata": {},
   "outputs": [],
   "source": [
    "import urllib.request\n",
    "import pandas as pd\n",
    "import numpy as np\n",
    "import matplotlib.pyplot as plt\n",
    "from konlpy.tag import Okt\n",
    "import tensorflow as tf\n",
    "from tensorflow.keras.preprocessing.text import Tokenizer\n",
    "from tensorflow.keras.preprocessing.sequence import pad_sequences\n",
    "from sklearn import preprocessing\n",
    "from tensorflow.keras.models import load_model"
   ]
  },
  {
   "cell_type": "code",
   "execution_count": 3,
   "id": "b84208a0",
   "metadata": {},
   "outputs": [],
   "source": [
    "df= pd.read_csv('./qa_final.csv.csv')\n",
    "import pandas as pd\n",
    "# qa_all= pd.read_csv('../kospi_진짜_진짜_최종.csv')"
   ]
  },
  {
   "cell_type": "code",
   "execution_count": 4,
   "id": "a156d047",
   "metadata": {},
   "outputs": [],
   "source": [
    "def word_clean(df):\n",
    "    from hanspell import spell_checker\n",
    "    import re\n",
    "    from tqdm import tqdm\n",
    "    CHANGE_FILTER = re.compile(\"([~!?\\\"':;&)(])\") #제외할 문자\n",
    "    okt = Okt()\n",
    "    X_train = []\n",
    "    for sentence in tqdm(df):\n",
    "        sentence = re.sub(CHANGE_FILTER,'','{}'.format(sentence)) #문자 제외\n",
    "#         sentence = sentence.upper()\n",
    "        ok = spell_checker.check(sentence) # 맞춤법 확인\n",
    "        sentence = ok.checked #바꾼 문자로 변경\n",
    "        clean_words = []\n",
    "        for word in okt.pos(sentence):\n",
    "            if word[1] in ['Noun', 'Modifier', 'Alpha']: #명사, 관형사(가끔 나와서), 영어\n",
    "                 clean_words.append(word[0]) #찾아진 것 중 단어만 추가\n",
    "        sentence = ' '.join(clean_words)\n",
    "        X_train.append(sentence)\n",
    "    return X_train"
   ]
  },
  {
   "cell_type": "code",
   "execution_count": 5,
   "id": "f578003a",
   "metadata": {},
   "outputs": [],
   "source": [
    "okt = Okt()\n",
    "max_len = 13\n",
    "tokenizer = Tokenizer()\n",
    "\n",
    "def question_processing(sentences):\n",
    "    sentences = [sentences]\n",
    "    inputs = []\n",
    "    for sentence in sentences : \n",
    "        sentence = okt.morphs(sentence)\n",
    "        encoded = tokenizer.texts_to_sequences([sentence])\n",
    "        inputs.append(encoded[0])\n",
    "    padded_inputs = pad_sequences(inputs, maxlen=max_len, padding='post')\n",
    "    return padded_inputs"
   ]
  },
  {
   "cell_type": "code",
   "execution_count": 6,
   "id": "5780ef86",
   "metadata": {},
   "outputs": [],
   "source": [
    "model_loaded = tf.keras.models.load_model('./intent_epo100_bs64.h5')\n",
    "import pickle\n",
    "with open('./tokenizer.pickle', 'rb') as handle:\n",
    "    tokenizer = pickle.load(handle)"
   ]
  },
  {
   "cell_type": "code",
   "execution_count": 7,
   "id": "5778d6f8",
   "metadata": {},
   "outputs": [],
   "source": [
    "idx_encode = preprocessing.LabelEncoder()\n",
    "idx_encode.fit(df['A'])\n",
    "\n",
    "# y_train = idx_encode.transform(df['A'])\n",
    "\n",
    "label_idx = dict(zip(list(idx_encode.classes_), idx_encode.transform(list(idx_encode.classes_))))\n",
    "idx_label = {}\n",
    "for key, value in label_idx.items():\n",
    "    idx_label[value] = key"
   ]
  },
  {
   "cell_type": "code",
   "execution_count": 8,
   "id": "4d29e29d",
   "metadata": {},
   "outputs": [
    {
     "name": "stderr",
     "output_type": "stream",
     "text": [
      "100%|████████████████████████████████████████████████████████████████████████████████████| 1/1 [00:06<00:00,  6.52s/it]\n"
     ]
    },
    {
     "name": "stdout",
     "output_type": "stream",
     "text": [
      "1/1 [==============================] - 1s 1s/step\n",
      "신한지주의 2022년도 PER은 4.5(배)입니다.\n"
     ]
    }
   ],
   "source": [
    "input_sentence = question_processing(word_clean(['신한은행의 올해쯤 되려나 싶은 per은?'])[0])\n",
    "prediction = np.argmax(model_loaded.predict(input_sentence), axis = 1)\n",
    "for p in prediction:print(idx_label[p])"
   ]
  },
  {
   "cell_type": "code",
   "execution_count": 9,
   "id": "3d828315",
   "metadata": {},
   "outputs": [],
   "source": [
    "def pred(input_text):\n",
    "    pred = []\n",
    "    input_sentence = question_processing(word_clean([input_text])[0])\n",
    "    prediction = np.argmax(model_loaded.predict(input_sentence), axis = 1)\n",
    "    for p in prediction: pred.append(idx_label[p])\n",
    "    return pred[0]\n",
    "\n",
    "# def pred(input_text):\n",
    "#     input_sentence = question_processing(word_clean([input_text]))\n",
    "#     prediction = np.argmax(model.predict(input_sentence), axis = 1)\n",
    "#     for p in prediction:\n",
    "#         print(idx_label[p])"
   ]
  },
  {
   "cell_type": "code",
   "execution_count": 10,
   "id": "9538d510",
   "metadata": {},
   "outputs": [
    {
     "name": "stderr",
     "output_type": "stream",
     "text": [
      "100%|████████████████████████████████████████████████████████████████████████████████████| 1/1 [00:00<00:00, 12.56it/s]\n"
     ]
    },
    {
     "name": "stdout",
     "output_type": "stream",
     "text": [
      "1/1 [==============================] - 0s 68ms/step\n"
     ]
    },
    {
     "data": {
      "text/plain": [
       "'신한지주의 2022년도 PER은 4.5(배)입니다.'"
      ]
     },
     "execution_count": 10,
     "metadata": {},
     "output_type": "execute_result"
    }
   ],
   "source": [
    "pred('신한은행의 올해쯤 되려나 싶은 per은?')"
   ]
  },
  {
   "cell_type": "markdown",
   "id": "6a0e7f53",
   "metadata": {},
   "source": [
    "# flask"
   ]
  },
  {
   "cell_type": "code",
   "execution_count": null,
   "id": "53e1b35d",
   "metadata": {},
   "outputs": [
    {
     "name": "stdout",
     "output_type": "stream",
     "text": [
      " * Serving Flask app '__main__'\n",
      " * Debug mode: off\n"
     ]
    },
    {
     "name": "stderr",
     "output_type": "stream",
     "text": [
      "WARNING: This is a development server. Do not use it in a production deployment. Use a production WSGI server instead.\n",
      " * Running on http://192.168.10.196:5000\n",
      "Press CTRL+C to quit\n",
      "192.168.10.196 - - [09/Feb/2023 20:22:13] \"GET / HTTP/1.1\" 200 -\n",
      "192.168.10.196 - - [09/Feb/2023 20:22:13] \"GET /static/img/ant.png HTTP/1.1\" 304 -\n",
      "0it [00:00, ?it/s]\n"
     ]
    },
    {
     "name": "stdout",
     "output_type": "stream",
     "text": [
      "{}\n"
     ]
    },
    {
     "name": "stderr",
     "output_type": "stream",
     "text": [
      "100%|████████████████████████████████████████████████████████████████████████████████████| 1/1 [00:00<00:00, 33.68it/s]"
     ]
    },
    {
     "name": "stdout",
     "output_type": "stream",
     "text": [
      "\r",
      "1/1 [==============================] - ETA: 0s"
     ]
    },
    {
     "name": "stderr",
     "output_type": "stream",
     "text": [
      "\n"
     ]
    },
    {
     "name": "stdout",
     "output_type": "stream",
     "text": [
      "\b\b\b\b\b\b\b\b\b\b\b\b\b\b\b\b\b\b\b\b\b\b\b\b\b\b\b\b\b\b\b\b\b\b\b\b\b\b\b\b\b\b\b\b\b\b\r",
      "1/1 [==============================] - 0s 50ms/step\n"
     ]
    },
    {
     "name": "stderr",
     "output_type": "stream",
     "text": [
      "192.168.10.173 - - [09/Feb/2023 20:22:14] \"POST /predict HTTP/1.1\" 200 -\n"
     ]
    },
    {
     "name": "stdout",
     "output_type": "stream",
     "text": [
      "SKC의 2022년도 ROE는 8.56(%)입니다.\n"
     ]
    },
    {
     "name": "stderr",
     "output_type": "stream",
     "text": [
      "0it [00:00, ?it/s]\n"
     ]
    },
    {
     "name": "stdout",
     "output_type": "stream",
     "text": [
      "{}\n"
     ]
    },
    {
     "name": "stderr",
     "output_type": "stream",
     "text": [
      "100%|████████████████████████████████████████████████████████████████████████████████████| 1/1 [00:00<00:00, 29.62it/s]\n"
     ]
    },
    {
     "name": "stdout",
     "output_type": "stream",
     "text": [
      "1/1 [==============================] - 0s 60ms/step\n"
     ]
    },
    {
     "name": "stderr",
     "output_type": "stream",
     "text": [
      "192.168.10.173 - - [09/Feb/2023 20:22:14] \"POST /predict HTTP/1.1\" 200 -\n"
     ]
    },
    {
     "name": "stdout",
     "output_type": "stream",
     "text": [
      "SKC의 2022년도 ROE는 8.56(%)입니다.\n"
     ]
    },
    {
     "name": "stderr",
     "output_type": "stream",
     "text": [
      "0it [00:00, ?it/s]\n"
     ]
    },
    {
     "name": "stdout",
     "output_type": "stream",
     "text": [
      "{}\n"
     ]
    },
    {
     "name": "stderr",
     "output_type": "stream",
     "text": [
      "100%|████████████████████████████████████████████████████████████████████████████████████| 1/1 [00:00<00:00, 61.60it/s]"
     ]
    },
    {
     "name": "stdout",
     "output_type": "stream",
     "text": [
      "1/1 [==============================] - 0s 51ms/step\n"
     ]
    },
    {
     "name": "stderr",
     "output_type": "stream",
     "text": [
      "\n",
      "192.168.10.173 - - [09/Feb/2023 20:22:15] \"POST /predict HTTP/1.1\" 200 -\n"
     ]
    },
    {
     "name": "stdout",
     "output_type": "stream",
     "text": [
      "SKC의 2022년도 ROE는 8.56(%)입니다.\n"
     ]
    },
    {
     "name": "stderr",
     "output_type": "stream",
     "text": [
      "0it [00:00, ?it/s]\n"
     ]
    },
    {
     "name": "stdout",
     "output_type": "stream",
     "text": [
      "{}\n"
     ]
    },
    {
     "name": "stderr",
     "output_type": "stream",
     "text": [
      "100%|████████████████████████████████████████████████████████████████████████████████████| 1/1 [00:00<00:00, 31.99it/s]"
     ]
    },
    {
     "name": "stdout",
     "output_type": "stream",
     "text": [
      "1/1 [==============================] - 0s 47ms/step\n"
     ]
    },
    {
     "name": "stderr",
     "output_type": "stream",
     "text": [
      "\n",
      "192.168.10.173 - - [09/Feb/2023 20:22:16] \"POST /predict HTTP/1.1\" 200 -\n"
     ]
    },
    {
     "name": "stdout",
     "output_type": "stream",
     "text": [
      "SKC의 2022년도 ROE는 8.56(%)입니다.\n"
     ]
    },
    {
     "name": "stderr",
     "output_type": "stream",
     "text": [
      "0it [00:00, ?it/s]\n"
     ]
    },
    {
     "name": "stdout",
     "output_type": "stream",
     "text": [
      "{}\n"
     ]
    },
    {
     "name": "stderr",
     "output_type": "stream",
     "text": [
      "100%|████████████████████████████████████████████████████████████████████████████████████| 1/1 [00:00<00:00, 28.78it/s]"
     ]
    },
    {
     "name": "stdout",
     "output_type": "stream",
     "text": [
      "1/1 [==============================] - 0s 47ms/step\n"
     ]
    },
    {
     "name": "stderr",
     "output_type": "stream",
     "text": [
      "\n",
      "192.168.10.173 - - [09/Feb/2023 20:22:17] \"POST /predict HTTP/1.1\" 200 -\n"
     ]
    },
    {
     "name": "stdout",
     "output_type": "stream",
     "text": [
      "SKC의 2022년도 ROE는 8.56(%)입니다.\n"
     ]
    },
    {
     "name": "stderr",
     "output_type": "stream",
     "text": [
      "0it [00:00, ?it/s]\n"
     ]
    },
    {
     "name": "stdout",
     "output_type": "stream",
     "text": [
      "{}\n"
     ]
    },
    {
     "name": "stderr",
     "output_type": "stream",
     "text": [
      "100%|████████████████████████████████████████████████████████████████████████████████████| 1/1 [00:00<00:00, 61.94it/s]"
     ]
    },
    {
     "name": "stdout",
     "output_type": "stream",
     "text": [
      "1/1 [==============================] - 0s 47ms/step\n"
     ]
    },
    {
     "name": "stderr",
     "output_type": "stream",
     "text": [
      "\n",
      "192.168.10.173 - - [09/Feb/2023 20:22:26] \"POST /predict HTTP/1.1\" 200 -\n"
     ]
    },
    {
     "name": "stdout",
     "output_type": "stream",
     "text": [
      "SKC의 2022년도 ROE는 8.56(%)입니다.\n"
     ]
    },
    {
     "name": "stderr",
     "output_type": "stream",
     "text": [
      "0it [00:00, ?it/s]\n"
     ]
    },
    {
     "name": "stdout",
     "output_type": "stream",
     "text": [
      "{}\n"
     ]
    },
    {
     "name": "stderr",
     "output_type": "stream",
     "text": [
      "100%|████████████████████████████████████████████████████████████████████████████████████| 1/1 [00:00<00:00, 62.59it/s]"
     ]
    },
    {
     "name": "stdout",
     "output_type": "stream",
     "text": [
      "1/1 [==============================] - 0s 49ms/step\n"
     ]
    },
    {
     "name": "stderr",
     "output_type": "stream",
     "text": [
      "\n",
      "192.168.10.173 - - [09/Feb/2023 20:22:27] \"POST /predict HTTP/1.1\" 200 -\n"
     ]
    },
    {
     "name": "stdout",
     "output_type": "stream",
     "text": [
      "SKC의 2022년도 ROE는 8.56(%)입니다.\n"
     ]
    }
   ],
   "source": [
    "#-*- coding: utf-8 -*-\n",
    "from flask import Flask, request, render_template, jsonify\n",
    "\n",
    "app = Flask(__name__)\n",
    "   \n",
    "@app.route(\"/predict\", methods=[\"POST\"])\n",
    "def predict():\n",
    "    value = dict(request.form)\n",
    "    for i in value:\n",
    "        value = i\n",
    "    word_clean(value)\n",
    "    print(value)\n",
    "    predictions = pred(value)\n",
    "    print(predictions)\n",
    "    # jsonify({\"state\": \"SUCCESS\", \"prediction\": prediction})\n",
    "    return jsonify({\"state\": \"SUCCESS\", \"prediction\": predictions})\n",
    "\n",
    "@app.route(\"/chat\")\n",
    "def chat():\n",
    "#     user_input = request.form[\"user_input\"]\n",
    "#     prediction = pred(user_input)\n",
    "    \n",
    "    return render_template(\"chat.html\")\n",
    "\n",
    "@app.route(\"/\")\n",
    "def index():\n",
    "    # return render_template(\"index.html\")\n",
    "    return render_template('index.html', message='안녕하세요! 저를 클릭해주세요')\n",
    "\n",
    "\n",
    "app.run(host='192.168.10.196', port=5000) #http://192.168.10.196:5000/"
   ]
  },
  {
   "cell_type": "code",
   "execution_count": null,
   "id": "da842abd",
   "metadata": {},
   "outputs": [],
   "source": []
  }
 ],
 "metadata": {
  "kernelspec": {
   "display_name": "Python 3 (ipykernel)",
   "language": "python",
   "name": "python3"
  },
  "language_info": {
   "codemirror_mode": {
    "name": "ipython",
    "version": 3
   },
   "file_extension": ".py",
   "mimetype": "text/x-python",
   "name": "python",
   "nbconvert_exporter": "python",
   "pygments_lexer": "ipython3",
   "version": "3.8.15"
  }
 },
 "nbformat": 4,
 "nbformat_minor": 5
}
